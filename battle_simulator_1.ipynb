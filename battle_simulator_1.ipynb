{
 "cells": [
  {
   "cell_type": "code",
   "execution_count": 1,
   "metadata": {},
   "outputs": [],
   "source": [
    "import time\n",
    "import numpy as np\n",
    "import sys"
   ]
  },
  {
   "cell_type": "code",
   "execution_count": 2,
   "metadata": {},
   "outputs": [],
   "source": [
    "def delay_print(s):\n",
    "    for c in s:\n",
    "        sys.stdout.write(c)\n",
    "        sys.stdout.flush()\n",
    "        time.sleep(0.05)"
   ]
  },
  {
   "cell_type": "code",
   "execution_count": 3,
   "metadata": {},
   "outputs": [],
   "source": [
    "class Pokemon:\n",
    "    def __init__(self, name, types, moves, EVs, health='==================='):\n",
    "        self.name = name\n",
    "        self.types = types\n",
    "        self.moves = moves\n",
    "        self.attack = EVs['ATTACK']\n",
    "        self.defense = EVs['DEFENSE']\n",
    "        self.health = health\n",
    "        self.bars = 20 \n",
    "\n",
    "\n",
    "    def fight(self, Pokemon2):\n",
    "\n",
    "        print(\"-----POKEMONE BATTLE-----\")\n",
    "        print(\"Pokemon 1:\", self.name)\n",
    "        print(\"TYPE/\", self.types)\n",
    "        print(\"ATTACK/\", self.attack)\n",
    "        print(\"DEFENSE/\", self.defense)\n",
    "        print(\"LVL/\", 3*(1+np.mean([self.attack,self.defense])))\n",
    "        print(\"\\nVS\")\n",
    "        print(\"Pokemon 2:\", Pokemon2.name)\n",
    "        print(\"TYPE/\", Pokemon2.types)\n",
    "        print(\"ATTACK/\", Pokemon2.attack)\n",
    "        print(\"DEFENSE/\", Pokemon2.defense)\n",
    "        print(\"LVL/\", 3*(1+np.mean([Pokemon2.attack,Pokemon2.defense])))\n",
    "\n",
    "        time.sleep(2)\n",
    "\n",
    "        version = ['Fire', 'Water', 'Grass']\n",
    "        for i,k in enumerate(version):\n",
    "            if self.types == k:\n",
    "                if Pokemon2.types == k:\n",
    "                    string_1_attack = '\\nIts not very effective...'\n",
    "                    string_2_attack = '\\nIts not very effective...'\n",
    "\n",
    "                if Pokemon2.types == version[(i+1)%3]:\n",
    "                    Pokemon2.attack *= 2\n",
    "                    Pokemon2.defense *= 2\n",
    "                    self.attack /= 2\n",
    "                    self.defense /= 2\n",
    "                    string_1_attack = '\\nIts not very effective...'\n",
    "                    string_2_attack = '\\nIts super effective!'\n",
    "\n",
    "                if Pokemon2.types == version[(i+2)%3]:\n",
    "                    self.attack *= 2\n",
    "                    self.defense *= 2\n",
    "                    Pokemon2.attack /= 2\n",
    "                    Pokemon2.defense /= 2\n",
    "                    string_1_attack = '\\nIts super effective!'\n",
    "                    string_2_attack = '\\nIts not very effective...'\n",
    "\n",
    "\n",
    "        \n",
    "        while (self.bars > 0) and (Pokemon2.bars > 0):\n",
    "            print(self.name ,\"health:\", self.health)\n",
    "            print(Pokemon2.name ,\"health:\", Pokemon2.health)\n",
    "\n",
    "            print(\"Go\", {self.name}, \"!\")\n",
    "            for i, x in enumerate(self.moves):\n",
    "                print(i+1, x)\n",
    "            index = int(input('Pick a move: '))\n",
    "            print(self.name ,\"used\", self.moves[index-1])\n",
    "            time.sleep(1)\n",
    "            delay_print(string_1_attack)\n",
    "\n",
    "            Pokemon2.bars -= self.attack\n",
    "            Pokemon2.health = \"\"\n",
    "\n",
    "            for j in range(int(Pokemon2.bars+.1*Pokemon2.defense)):\n",
    "                Pokemon2.health += \"=\"\n",
    "\n",
    "            time.sleep(1)\n",
    "            print(self.name ,\"health:\", self.health)\n",
    "            print(Pokemon2.name ,\"health:\", Pokemon2.health)\n",
    "            time.sleep(.5)\n",
    "\n",
    "            if Pokemon2.bars <= 0:\n",
    "                delay_print(\"\\n...\" + Pokemon2.name + ' fainted.')\n",
    "                break\n",
    "\n",
    "            print(\"Go\",  Pokemon2.name, \"!\")\n",
    "            for i, x in enumerate(Pokemon2.moves):\n",
    "                print(i+1, x)\n",
    "            index = int(input('Pick a move: '))\n",
    "            print(Pokemon2.name ,\"used\", Pokemon2.moves[index-1])\n",
    "            time.sleep(1)\n",
    "            delay_print(string_2_attack)\n",
    "\n",
    "            self.bars -= Pokemon2.attack\n",
    "            self.health = \"\"\n",
    "\n",
    "            for j in range(int(self.bars+.1*self.defense)):\n",
    "                self.health += \"=\"\n",
    "\n",
    "            time.sleep(1)\n",
    "            print(self.name ,\"health:\", self.health)\n",
    "            print(Pokemon2.name ,\"health:\", Pokemon2.health)\n",
    "            time.sleep(.5)\n",
    "\n",
    "            if self.bars <= 0:\n",
    "                delay_print(\"\\n...\" + self.name + ' fainted.')\n",
    "                break"
   ]
  },
  {
   "cell_type": "code",
   "execution_count": 4,
   "metadata": {},
   "outputs": [],
   "source": [
    "if __name__ == '__main__':\n",
    "    Charizard = Pokemon('Charizard', 'Fire', ['Flamethrower', 'Fly', 'Blast Burn', 'Fire Punch'], {'ATTACK':12, 'DEFENSE': 8})\n",
    "    Blastoise = Pokemon('Blastoise', 'Water', ['Water Gun', 'Bubblebeam', 'Hydro Pump', 'Surf'],{'ATTACK': 10, 'DEFENSE':10})\n",
    "    Venusaur = Pokemon('Venusaur', 'Grass', ['Vine Wip', 'Razor Leaf', 'Earthquake', 'Frenzy Plant'],{'ATTACK':8, 'DEFENSE':12})\n",
    "\n",
    "    Charmander = Pokemon('Charmander', 'Fire', ['Ember', 'Scratch', 'Tackle', 'Fire Punch'],{'ATTACK':4, 'DEFENSE':2})\n",
    "    Squirtle = Pokemon('Squirtle', 'Water', ['Bubblebeam', 'Tackle', 'Headbutt', 'Surf'],{'ATTACK': 3, 'DEFENSE':3})\n",
    "    Bulbasaur = Pokemon('Bulbasaur', 'Grass', ['Vine Wip', 'Razor Leaf', 'Tackle', 'Leech Seed'],{'ATTACK':2, 'DEFENSE':4})\n",
    "\n",
    "    Charmeleon = Pokemon('Charmeleon', 'Fire', ['Ember', 'Scratch', 'Flamethrower', 'Fire Punch'],{'ATTACK':6, 'DEFENSE':5})\n",
    "    Wartortle = Pokemon('Wartortle', 'Water', ['Bubblebeam', 'Water Gun', 'Headbutt', 'Surf'],{'ATTACK': 5, 'DEFENSE':5})\n",
    "    Ivysaur = Pokemon('Ivysaur\\t', 'Grass', ['Vine Wip', 'Razor Leaf', 'Bullet Seed', 'Leech Seed'],{'ATTACK':4, 'DEFENSE':6})"
   ]
  },
  {
   "cell_type": "code",
   "execution_count": 13,
   "metadata": {},
   "outputs": [
    {
     "data": {
      "text/plain": [
       "['Vine Wip', 'Razor Leaf', 'Earthquake', 'Frenzy Plant']"
      ]
     },
     "execution_count": 13,
     "metadata": {},
     "output_type": "execute_result"
    }
   ],
   "source": [
    "Venusaur.moves"
   ]
  }
 ],
 "metadata": {
  "kernelspec": {
   "display_name": "Python 3",
   "language": "python",
   "name": "python3"
  },
  "language_info": {
   "codemirror_mode": {
    "name": "ipython",
    "version": 3
   },
   "file_extension": ".py",
   "mimetype": "text/x-python",
   "name": "python",
   "nbconvert_exporter": "python",
   "pygments_lexer": "ipython3",
   "version": "3.7.1"
  }
 },
 "nbformat": 4,
 "nbformat_minor": 2
}
