{
 "cells": [
  {
   "cell_type": "code",
   "execution_count": 1,
   "metadata": {},
   "outputs": [],
   "source": [
    "import time\n",
    "import numpy as np\n",
    "import sys\n",
    "import requests\n",
    "import json\n",
    "from random import sample\n",
    "import random"
   ]
  },
  {
   "cell_type": "code",
   "execution_count": 2,
   "metadata": {},
   "outputs": [],
   "source": [
    "def delay_print(s):\n",
    "    for c in s:\n",
    "        sys.stdout.write(c)\n",
    "        sys.stdout.flush()\n",
    "        time.sleep(0.05)"
   ]
  },
  {
   "cell_type": "code",
   "execution_count": 3,
   "metadata": {},
   "outputs": [],
   "source": [
    "def api_call(url):\n",
    "    \"\"\"Makes api call to the Pokemon type endpoint and returns json text\"\"\"\n",
    "    response = requests.get(url)\n",
    "    response_json = json.loads(response.text)\n",
    "    return response_json\n"
   ]
  },
  {
   "cell_type": "code",
   "execution_count": 4,
   "metadata": {},
   "outputs": [],
   "source": [
    "class Pokemon:\n",
    "    def __init__(self, name, types, moves, speed, health=100):\n",
    "        self.name = name\n",
    "        self.types = types\n",
    "        self.moves = moves\n",
    "        self.health = health\n",
    "        self.bars = 100 # JS changed health to 100\n",
    "        self.speed = speed\n",
    "        self.moves_list = []\n",
    "        self.pokemon_url = 'https://pokeapi.co/api/v2/pokemon/'+self.name+'/'\n",
    "        self.weaknesses = []\n",
    "        self.resistances = []\n",
    "        self.types_list = []\n",
    "\n",
    "\n",
    "    def get_moves(self): \n",
    "        \"\"\"Creates a list of moves for battle. The moves are random\n",
    "        assignments from all available moves in the api\"\"\"\n",
    "        response_json = api_call(self.pokemon_url)\n",
    "        num_of_moves = len(response_json['moves'])\n",
    "        move_index = sample(range(num_of_moves), 4) #randomly selects 4 out of all moves available\n",
    "\n",
    "        for i in move_index:\n",
    "            self.moves_list.append(\n",
    "                response_json['moves'][i]['move']['name'])\n",
    "\n",
    "        self.moves_list = np.unique(np.array(self.moves_list)).tolist() #assigns random moves to a list for this pokemon\n",
    "        self.moves = np.unique(np.array(self.moves_list)).tolist() #resets original moves to random list\n",
    "\n",
    "\n",
    "    def poke_types(self):\n",
    "        \"\"\"Returns a list of the Pokemon's type(s)\"\"\"\n",
    "        self.types_list.clear() #empty the list so that duplicates are not created if ran multiple times\n",
    "        response_json = api_call(self.pokemon_url)\n",
    "        for i in range(len(response_json['types'])):\n",
    "            type_resp = response_json['types'][i]['type']['name']\n",
    "            self.types_list.append(type_resp)\n",
    "\n",
    "\n",
    "    \n",
    "\n",
    "    def move_factors(self):\n",
    "        \"\"\"Finds the weaknesses and resistance types for this Pokemon\"\"\"\n",
    "        for i in self.poke_types():\n",
    "            type_url = 'https://pokeapi.co/api/v2/type/'+i+'/'\n",
    "            type_response_json = api_call(type_url)\n",
    "\n",
    "            for j in range(len(type_response_json['damage_relations']['double_damage_from'])):\n",
    "                self.weaknesses.append(type_response_json['damage_relations']['double_damage_from'][j]['name'])\n",
    "\n",
    "            for k in range(len(type_response_json['damage_relations']['half_damage_from'])):\n",
    "                self.resistances.append(type_response_json['damage_relations']['half_damage_from'][k]['name'])\n",
    "\n",
    "            self.weaknesses = np.unique(np.array(self.weaknesses)).tolist()\n",
    "            self.resistances = np.unique(np.array(self.resistances)).tolist()\n",
    "\n",
    "    \n",
    "def move_info(move): \n",
    "    move = move.replace(' ', '-').lower()\n",
    "    url = 'https://pokeapi.co/api/v2/move/'+move+'/'\n",
    "    response_json = api_call(url)\n",
    "\n",
    "    move_type = response_json['type']['name']\n",
    "    # move_power = response_json['power']\n",
    "\n",
    "    return move_type, # move_power\n",
    "\n",
    "    \n",
    "def damage_multiplier(defending_mon, move): \n",
    "    d_resistences = set(defending_mon.resistances)\n",
    "    d_weaknesses = set(defending_mon.weaknesses)\n",
    "    m_type = move_info(move)\n",
    "    move_types = set(m_type)\n",
    "    rando = random.randint(1,10)\n",
    "    \n",
    "    if rando == 7: # Adding some fun uncertinity to the match\n",
    "        multiplier = 0\n",
    "    elif rando == 3:\n",
    "        multiplier = 30\n",
    "    elif move_types.intersection(d_weaknesses):\n",
    "        multiplier = 10 # JS increased value\n",
    "    elif move_types.intersection(d_resistences):\n",
    "        multiplier = .5\n",
    "    else: \n",
    "        multiplier = 3 # JS increased value\n",
    "    \n",
    "    return multiplier\n",
    "\n",
    "\n"
   ]
  },
  {
   "cell_type": "code",
   "execution_count": 5,
   "metadata": {},
   "outputs": [],
   "source": [
    "def battle_turn1(quicker_mon, slower_mon):\n",
    "    print(\"Go\", quicker_mon.name, \"!\")\n",
    "    \n",
    "    for i, x in enumerate(quicker_mon.moves):\n",
    "        print(i+1, x)\n",
    "    index = int(input(\"Pick a move: \"))\n",
    "    \n",
    "    print(quicker_mon.name ,\"used\", list(quicker_mon.moves.keys())[index-1])\n",
    "    time.sleep(1)\n",
    "    print(quicker_mon.name, \"did\", list(quicker_mon.moves.values())[index-1]*damage_multiplier(slower_mon,list(quicker_mon.moves.keys())[index-1]), \"damage!\")\n",
    "    #print('[multipler = ', damage_multipler, ']')\n",
    "\n",
    "    slower_mon.bars -= list(quicker_mon.moves.values())[index-1]*damage_multiplier(slower_mon,list(quicker_mon.moves.keys())[index-1])\n",
    "    slower_mon.health = \"\"\n",
    "\n",
    "    for i in range(int(slower_mon.bars)):\n",
    "        slower_mon.health += \"=\"\n",
    "\n",
    "    print(quicker_mon.name ,\"health:\", quicker_mon.bars) # JS changed from == to return numeric value\n",
    "    print(slower_mon.name ,\"health:\", slower_mon.bars, '\\n') # JS changed from == to return numeric value\n",
    "    print('     ') # Adding separator"
   ]
  },
  {
   "cell_type": "code",
   "execution_count": 6,
   "metadata": {},
   "outputs": [],
   "source": [
    "def battle_turn2(quicker_mon, slower_mon):\n",
    "    print(\"Go\", slower_mon.name, \"!\")\n",
    "    for i, x in enumerate(slower_mon.moves):\n",
    "        print(i+1, x)\n",
    "\n",
    "    index = int(input(\"Pick a move: \"))\n",
    "    \n",
    "    print(slower_mon.name ,\"used\", list(slower_mon.moves.keys())[index-1])\n",
    "    time.sleep(1)\n",
    "    print(slower_mon.name, \"did\", list(slower_mon.moves.values())[index-1]*damage_multiplier(quicker_mon,list(slower_mon.moves.keys())[index-1]), \"damage!\")\n",
    "    #print('[multipler = ', damage_multipler, ']')\n",
    "\n",
    "\n",
    "    quicker_mon.bars -= list(slower_mon.moves.values())[index-1]*damage_multiplier(quicker_mon,list(slower_mon.moves.keys())[index-1])\n",
    "    quicker_mon.health = \"\"\n",
    "\n",
    "    for i in range(int(quicker_mon.bars)):\n",
    "        quicker_mon.health += \"=\"\n",
    "        \n",
    "    print(slower_mon.name ,\"health:\", slower_mon.bars) # JS changed from == to return numeric value\n",
    "    print(quicker_mon.name ,\"health:\", quicker_mon.bars)  # JS changed from == to return numeric value          \n",
    "    print('     ')"
   ]
  },
  {
   "cell_type": "code",
   "execution_count": 7,
   "metadata": {},
   "outputs": [],
   "source": [
    "def battle(Pokemon1, Pokemon2): \n",
    "    \n",
    "    print(\"-----POKEMON BATTLE-----\")\n",
    "    print(\"Pokemon 1:\", Pokemon1.name)\n",
    "    print(\"TYPE/\", Pokemon1.types)\n",
    "    print(\"\\nVS\\n\")\n",
    "    print(\"Pokemon 2:\", Pokemon2.name)\n",
    "    print(\"TYPE/\", Pokemon2.types, '\\n')\n",
    "    \n",
    "#evaluate speed of pokemon\n",
    "    \n",
    "    while Pokemon1.speed > Pokemon2.speed == True:\n",
    "        quicker_mon = Pokemon1\n",
    "        slower_mon = Pokemon2\n",
    "    \n",
    "    else: \n",
    "        slower_mon = Pokemon1\n",
    "        quicker_mon = Pokemon2\n",
    "        \n",
    "    while (quicker_mon.bars > 0) and (slower_mon.bars > 0):\n",
    "            \n",
    "            battle_turn1(quicker_mon, slower_mon)\n",
    "            \n",
    "            if slower_mon.bars <= 0:\n",
    "                delay_print(\"\\n...\" + slower_mon.name + ' fainted.')\n",
    "                break\n",
    "                \n",
    " #mirroring the attack pattern of the quicker mon but for the slower mon\n",
    "\n",
    "            battle_turn2(quicker_mon, slower_mon)           \n",
    "            \n",
    "            if quicker_mon.bars <= 0:\n",
    "                delay_print(\"\\n...\" + quicker_mon.name + ' fainted.')\n",
    "                break"
   ]
  },
  {
   "cell_type": "code",
   "execution_count": 8,
   "metadata": {},
   "outputs": [],
   "source": [
    "if __name__ == '__main__':\n",
    "    gyarados = Pokemon('gyarados', 'water', {'crunch': 1, 'surf': 3}, 4)\n",
    "    aerodactyl = Pokemon('aerodactyl', 'rock', {'air-cutter': 2, 'head-smash': 3}, 7)\n",
    "    \n",
    "#could use api calls for move type and move power instead of using dictionaries\n",
    "    #for damage calcs, could use power % 10 to simplify health ga"
   ]
  },
  {
   "cell_type": "code",
   "execution_count": null,
   "metadata": {},
   "outputs": [
    {
     "name": "stdout",
     "output_type": "stream",
     "text": [
      "-----POKEMON BATTLE-----\n",
      "Pokemon 1: gyarados\n",
      "TYPE/ water\n",
      "\n",
      "VS\n",
      "\n",
      "Pokemon 2: aerodactyl\n",
      "TYPE/ rock \n",
      "\n",
      "Go aerodactyl !\n",
      "1 air-cutter\n",
      "2 head-smash\n",
      "Pick a move: 1\n",
      "aerodactyl used air-cutter\n",
      "aerodactyl did 6 damage!\n",
      "aerodactyl health: 100\n",
      "gyarados health: 40 \n",
      "\n",
      "     \n",
      "Go gyarados !\n",
      "1 crunch\n",
      "2 surf\n",
      "Pick a move: 2\n",
      "gyarados used surf\n",
      "gyarados did 9 damage!\n",
      "gyarados health: 40\n",
      "aerodactyl health: 91\n",
      "     \n",
      "Go aerodactyl !\n",
      "1 air-cutter\n",
      "2 head-smash\n",
      "Pick a move: 1\n",
      "aerodactyl used air-cutter\n",
      "aerodactyl did 6 damage!\n",
      "aerodactyl health: 91\n",
      "gyarados health: 34 \n",
      "\n",
      "     \n",
      "Go gyarados !\n",
      "1 crunch\n",
      "2 surf\n",
      "Pick a move: 2\n",
      "gyarados used surf\n",
      "gyarados did 9 damage!\n",
      "gyarados health: 34\n",
      "aerodactyl health: 82\n",
      "     \n",
      "Go aerodactyl !\n",
      "1 air-cutter\n",
      "2 head-smash\n"
     ]
    }
   ],
   "source": [
    "battle(gyarados, aerodactyl)"
   ]
  },
  {
   "cell_type": "code",
   "execution_count": null,
   "metadata": {},
   "outputs": [],
   "source": []
  },
  {
   "cell_type": "code",
   "execution_count": null,
   "metadata": {},
   "outputs": [],
   "source": [
    "gyarados.moves #original attritubtes \n"
   ]
  },
  {
   "cell_type": "code",
   "execution_count": null,
   "metadata": {},
   "outputs": [],
   "source": [
    "gyarados.get_moves() #updates moves to new choices but now has no damage associated \n",
    "gyarados.moves "
   ]
  },
  {
   "cell_type": "code",
   "execution_count": null,
   "metadata": {},
   "outputs": [],
   "source": [
    "gyarados.moves_list #just a list of the random moves. work in progress"
   ]
  },
  {
   "cell_type": "code",
   "execution_count": null,
   "metadata": {},
   "outputs": [],
   "source": [
    "gyarados.types"
   ]
  },
  {
   "cell_type": "code",
   "execution_count": null,
   "metadata": {},
   "outputs": [],
   "source": [
    "gyarados.poke_types()\n",
    "gyarados.types_list"
   ]
  },
  {
   "cell_type": "code",
   "execution_count": null,
   "metadata": {},
   "outputs": [],
   "source": [
    "ivysaur = Pokemon('ivysaur', 'grass', 'na', 4,)"
   ]
  },
  {
   "cell_type": "code",
   "execution_count": null,
   "metadata": {},
   "outputs": [],
   "source": [
    "ivysaur.get_moves()"
   ]
  },
  {
   "cell_type": "code",
   "execution_count": null,
   "metadata": {},
   "outputs": [],
   "source": [
    "ivysaur.poke_types()"
   ]
  },
  {
   "cell_type": "code",
   "execution_count": null,
   "metadata": {},
   "outputs": [],
   "source": [
    "ivysaur.types_list"
   ]
  },
  {
   "cell_type": "code",
   "execution_count": null,
   "metadata": {},
   "outputs": [],
   "source": [
    "ivysaur.moves"
   ]
  },
  {
   "cell_type": "code",
   "execution_count": null,
   "metadata": {},
   "outputs": [],
   "source": []
  }
 ],
 "metadata": {
  "kernelspec": {
   "display_name": "Python 3 (ipykernel)",
   "language": "python",
   "name": "python3"
  },
  "language_info": {
   "codemirror_mode": {
    "name": "ipython",
    "version": 3
   },
   "file_extension": ".py",
   "mimetype": "text/x-python",
   "name": "python",
   "nbconvert_exporter": "python",
   "pygments_lexer": "ipython3",
   "version": "3.9.5"
  }
 },
 "nbformat": 4,
 "nbformat_minor": 2
}
