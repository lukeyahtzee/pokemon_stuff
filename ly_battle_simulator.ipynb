{
 "cells": [
  {
   "cell_type": "code",
   "execution_count": 1,
   "metadata": {},
   "outputs": [],
   "source": [
    "import time\n",
    "import numpy as np\n",
    "import sys"
   ]
  },
  {
   "cell_type": "code",
   "execution_count": 43,
   "metadata": {},
   "outputs": [],
   "source": [
    "def delay_print(s):\n",
    "    for c in s:\n",
    "        sys.stdout.write(c)\n",
    "        sys.stdout.flush()\n",
    "        time.sleep(0.05)"
   ]
  },
  {
   "cell_type": "code",
   "execution_count": 82,
   "metadata": {},
   "outputs": [],
   "source": [
    "def bars_remaining(bars): \n",
    "    \n",
    "    bars = Pokemon.bars\n",
    "    \n",
    "    if Pokemon.bars == 1:\n",
    "        Pokemon.health = '='\n",
    "    elif Pokemon.bars == 2:\n",
    "        Pokemon.health = '=='\n",
    "    elif Pokemon.bars == 3:\n",
    "        Pokemon.health = '==='\n",
    "    elif Pokemon.bars == 4:\n",
    "        Pokemon.health = '===='\n",
    "    elif Pokemon.bars == 5:\n",
    "        Pokemon.health = '====='\n",
    "    elif Pokemon.bars == 6:\n",
    "        Pokemon.health = '======'\n",
    "    elif Pokemon.bars == 7:\n",
    "        Pokemon.health = '======='\n",
    "    elif Pokemon.bars == 8:\n",
    "        Pokemon.health = '========'\n",
    "    elif Pokemon.bars == 9:\n",
    "        Pokemon.health = '========='\n",
    "    elif Pokemon.bars == 10:\n",
    "        Pokemon.health = '=========='"
   ]
  },
  {
   "cell_type": "code",
   "execution_count": 63,
   "metadata": {},
   "outputs": [],
   "source": [
    "class Pokemon:\n",
    "    def __init__(self, name, types, moves, speed, health='===================='):\n",
    "        self.name = name\n",
    "        self.types = types\n",
    "        self.moves = moves\n",
    "        self.health = health\n",
    "        self.bars = 10\n",
    "        self.speed = speed"
   ]
  },
  {
   "cell_type": "code",
   "execution_count": 83,
   "metadata": {},
   "outputs": [],
   "source": [
    "def battle(Pokemon1, Pokemon2): \n",
    "    \n",
    "    print(\"-----POKEMONE BATTLE-----\")\n",
    "    print(\"Pokemon 1:\", Pokemon1.name)\n",
    "    print(\"TYPE/\", Pokemon1.types)\n",
    "    print(\"\\nVS\")\n",
    "    print(\"Pokemon 2:\", Pokemon2.name)\n",
    "    print(\"TYPE/\", Pokemon2.types)\n",
    "    \n",
    "    #time.sleep(2)\n",
    "    \n",
    "    while (Pokemon1.bars > 0) and (Pokemon2.bars > 0):\n",
    "            print(Pokemon1.name ,\"health:\", Pokemon1.health)\n",
    "            print(Pokemon2.name ,\"health:\", Pokemon2.health)\n",
    "            \n",
    "            print(\"Go\", {Pokemon1.name}, \"!\")\n",
    "            for i, x in enumerate(Pokemon1.moves):\n",
    "                print(i+1, x)\n",
    "            index = int(input('Pick a move: '))\n",
    "            print(Pokemon1.name ,\"used\", list(Pokemon1.moves.keys())[index-1])\n",
    "            time.sleep(1)\n",
    "            print(Pokemon1.name, \"did\", list(Pokemon1.moves.values())[index-1], \"damage!\")\n",
    "\n",
    "            Pokemon2.bars -= list(Pokemon1.moves.values())[index-1]\n",
    "            Pokemon2.health = bars_remaining(Pokemon2)\n",
    "            "
   ]
  },
  {
   "cell_type": "code",
   "execution_count": 84,
   "metadata": {},
   "outputs": [
    {
     "name": "stdout",
     "output_type": "stream",
     "text": [
      "-----POKEMONE BATTLE-----\n",
      "Pokemon 1: Gyarados\n",
      "TYPE/ water\n",
      "\n",
      "VS\n",
      "Pokemon 2: Aerodactyl\n",
      "TYPE/ rock\n",
      "Gyarados health: ====================\n",
      "Aerodactyl health: \n",
      "Go {'Gyarados'} !\n",
      "1 crunch\n",
      "2 surf\n",
      "Pick a move: 2\n",
      "Gyarados used surf\n",
      "Gyarados did 3 damage!\n"
     ]
    },
    {
     "ename": "AttributeError",
     "evalue": "type object 'Pokemon' has no attribute 'bars'",
     "output_type": "error",
     "traceback": [
      "\u001b[0;31m---------------------------------------------------------------------------\u001b[0m",
      "\u001b[0;31mAttributeError\u001b[0m                            Traceback (most recent call last)",
      "\u001b[0;32m<ipython-input-84-80970decd3b9>\u001b[0m in \u001b[0;36m<module>\u001b[0;34m\u001b[0m\n\u001b[0;32m----> 1\u001b[0;31m \u001b[0mbattle\u001b[0m\u001b[0;34m(\u001b[0m\u001b[0mGyarados\u001b[0m\u001b[0;34m,\u001b[0m \u001b[0mAerodactyl\u001b[0m\u001b[0;34m)\u001b[0m\u001b[0;34m\u001b[0m\u001b[0;34m\u001b[0m\u001b[0m\n\u001b[0m",
      "\u001b[0;32m<ipython-input-83-05da64569ee9>\u001b[0m in \u001b[0;36mbattle\u001b[0;34m(Pokemon1, Pokemon2)\u001b[0m\n\u001b[1;32m     23\u001b[0m \u001b[0;34m\u001b[0m\u001b[0m\n\u001b[1;32m     24\u001b[0m             \u001b[0mPokemon2\u001b[0m\u001b[0;34m.\u001b[0m\u001b[0mbars\u001b[0m \u001b[0;34m-=\u001b[0m \u001b[0mlist\u001b[0m\u001b[0;34m(\u001b[0m\u001b[0mPokemon1\u001b[0m\u001b[0;34m.\u001b[0m\u001b[0mmoves\u001b[0m\u001b[0;34m.\u001b[0m\u001b[0mvalues\u001b[0m\u001b[0;34m(\u001b[0m\u001b[0;34m)\u001b[0m\u001b[0;34m)\u001b[0m\u001b[0;34m[\u001b[0m\u001b[0mindex\u001b[0m\u001b[0;34m-\u001b[0m\u001b[0;36m1\u001b[0m\u001b[0;34m]\u001b[0m\u001b[0;34m\u001b[0m\u001b[0;34m\u001b[0m\u001b[0m\n\u001b[0;32m---> 25\u001b[0;31m             \u001b[0mPokemon2\u001b[0m\u001b[0;34m.\u001b[0m\u001b[0mhealth\u001b[0m \u001b[0;34m=\u001b[0m \u001b[0mbars_remaining\u001b[0m\u001b[0;34m(\u001b[0m\u001b[0mPokemon2\u001b[0m\u001b[0;34m)\u001b[0m\u001b[0;34m\u001b[0m\u001b[0;34m\u001b[0m\u001b[0m\n\u001b[0m\u001b[1;32m     26\u001b[0m \u001b[0;34m\u001b[0m\u001b[0m\n",
      "\u001b[0;32m<ipython-input-82-13965cfd3dcf>\u001b[0m in \u001b[0;36mbars_remaining\u001b[0;34m(bars)\u001b[0m\n\u001b[1;32m      1\u001b[0m \u001b[0;32mdef\u001b[0m \u001b[0mbars_remaining\u001b[0m\u001b[0;34m(\u001b[0m\u001b[0mbars\u001b[0m\u001b[0;34m)\u001b[0m\u001b[0;34m:\u001b[0m\u001b[0;34m\u001b[0m\u001b[0;34m\u001b[0m\u001b[0m\n\u001b[1;32m      2\u001b[0m \u001b[0;34m\u001b[0m\u001b[0m\n\u001b[0;32m----> 3\u001b[0;31m     \u001b[0mbars\u001b[0m \u001b[0;34m=\u001b[0m \u001b[0mPokemon\u001b[0m\u001b[0;34m.\u001b[0m\u001b[0mbars\u001b[0m\u001b[0;34m\u001b[0m\u001b[0;34m\u001b[0m\u001b[0m\n\u001b[0m\u001b[1;32m      4\u001b[0m \u001b[0;34m\u001b[0m\u001b[0m\n\u001b[1;32m      5\u001b[0m     \u001b[0;32mif\u001b[0m \u001b[0mPokemon\u001b[0m\u001b[0;34m.\u001b[0m\u001b[0mbars\u001b[0m \u001b[0;34m==\u001b[0m \u001b[0;36m1\u001b[0m\u001b[0;34m:\u001b[0m\u001b[0;34m\u001b[0m\u001b[0;34m\u001b[0m\u001b[0m\n",
      "\u001b[0;31mAttributeError\u001b[0m: type object 'Pokemon' has no attribute 'bars'"
     ]
    }
   ],
   "source": [
    "battle(Gyarados, Aerodactyl)"
   ]
  },
  {
   "cell_type": "code",
   "execution_count": 73,
   "metadata": {},
   "outputs": [],
   "source": [
    "if __name__ == '__main__':\n",
    "    Gyarados = Pokemon('Gyarados', 'water', {'crunch': 1, 'surf': 3}, 4)\n",
    "    Aerodactyl = Pokemon('Aerodactyl', 'rock', {'air slash': 2, 'head smash': 3}, 7)"
   ]
  }
 ],
 "metadata": {
  "kernelspec": {
   "display_name": "Python 3",
   "language": "python",
   "name": "python3"
  },
  "language_info": {
   "codemirror_mode": {
    "name": "ipython",
    "version": 3
   },
   "file_extension": ".py",
   "mimetype": "text/x-python",
   "name": "python",
   "nbconvert_exporter": "python",
   "pygments_lexer": "ipython3",
   "version": "3.7.1"
  }
 },
 "nbformat": 4,
 "nbformat_minor": 2
}
