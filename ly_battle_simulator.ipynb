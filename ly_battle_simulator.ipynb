{
 "cells": [
  {
   "cell_type": "code",
   "execution_count": 239,
   "metadata": {},
   "outputs": [],
   "source": [
    "import time\n",
    "import numpy as np\n",
    "import sys\n",
    "import requests\n",
    "import json\n",
    "from random import sample\n",
    "from math import ceil"
   ]
  },
  {
   "cell_type": "code",
   "execution_count": 2,
   "metadata": {},
   "outputs": [],
   "source": [
    "def delay_print(s):\n",
    "    for c in s:\n",
    "        sys.stdout.write(c)\n",
    "        sys.stdout.flush()\n",
    "        time.sleep(0.05)"
   ]
  },
  {
   "cell_type": "code",
   "execution_count": 3,
   "metadata": {},
   "outputs": [],
   "source": [
    "def api_call(url):\n",
    "    \"\"\"Makes api call to the Pokemon type endpoint and returns json text\"\"\"\n",
    "    response = requests.get(url)\n",
    "    response_json = json.loads(response.text)\n",
    "    return response_json\n"
   ]
  },
  {
   "cell_type": "code",
   "execution_count": 250,
   "metadata": {},
   "outputs": [],
   "source": [
    "class Pokemon:\n",
    "    def __init__(self, name, speed, health='=========='):\n",
    "        self.name = name\n",
    "        self.types = []\n",
    "        self.moves = []\n",
    "        self.health = health\n",
    "        self.bars = 30\n",
    "        self.speed = speed\n",
    "        self.pokemon_url = 'https://pokeapi.co/api/v2/pokemon/'+self.name+'/'\n",
    "        self.weaknesses = []\n",
    "        self.resistances = []\n",
    "        self.move_dict = {}\n",
    "\n",
    "\n",
    "    def get_moves(self): \n",
    "        \"\"\"Creates a list of moves for battle. The moves are random\n",
    "        assignments from all available moves in the api\"\"\"\n",
    "        response_json = api_call(self.pokemon_url)\n",
    "        num_of_moves = len(response_json['moves'])\n",
    "        # randomly selects 8 out of all moves available\n",
    "        # 8 because some moves have 0 attack which is lame\n",
    "        # and I want to filter down to 4 useable moves \n",
    "        move_index = sample(range(num_of_moves), 8) \n",
    "\n",
    "        for i in move_index:\n",
    "            self.moves.append(\n",
    "                response_json['moves'][i]['move']['name'])\n",
    "\n",
    "\n",
    "    def poke_types(self):\n",
    "        \"\"\"Updates types list for the Pokemon's type(s)\"\"\"\n",
    "        self.types.clear() #empty the list so that duplicates are not created if ran multiple times\n",
    "        response_json = api_call(self.pokemon_url)\n",
    "        for i in range(len(response_json['types'])):\n",
    "            type_resp = response_json['types'][i]['type']['name']\n",
    "            self.types.append(type_resp)\n",
    "\n",
    "\n",
    "    def factors(self):\n",
    "        \"\"\"Finds the weaknesses and resistance types for this Pokemon\"\"\"\n",
    "        self.poke_types()\n",
    "        for i in self.types:\n",
    "            type_url = 'https://pokeapi.co/api/v2/type/'+i+'/'\n",
    "            type_response_json = api_call(type_url)\n",
    "\n",
    "            for j in range(len(type_response_json['damage_relations']['double_damage_from'])):\n",
    "                self.weaknesses.append(type_response_json['damage_relations']['double_damage_from'][j]['name'])\n",
    "\n",
    "            for k in range(len(type_response_json['damage_relations']['half_damage_from'])):\n",
    "                self.resistances.append(type_response_json['damage_relations']['half_damage_from'][k]['name'])\n",
    "\n",
    "            self.weaknesses = np.unique(np.array(self.weaknesses)).tolist()\n",
    "            self.resistances = np.unique(np.array(self.resistances)).tolist()\n",
    "\n",
    "\n",
    "    def delete_no_damage(self):\n",
    "        \"\"\"\n",
    "        Removes any move with a 0 damage value from the move_dict and moves\n",
    "        \"\"\"\n",
    "        del_list = []\n",
    "        for m in self.move_dict:\n",
    "            if self.move_dict[m]['power'] == 0:\n",
    "                del_list.append(m)\n",
    "        for n in del_list:\n",
    "            del self.move_dict[n]\n",
    "\n",
    "        #remove excess moves from move_dict\n",
    "        for k,v in enumerate(self.move_dict.copy()):\n",
    "            if k > 3:\n",
    "                del self.move_dict[v]\n",
    "\n",
    "        #remove the extra moves from moves\n",
    "        self.moves = self.move_dict.keys()\n",
    "    \n",
    "    def move_info(self): \n",
    "        \"\"\"Finds type and power attributes for each of the pokemons moves.  The results\n",
    "        fill in the move_dict attribute. \"\"\"\n",
    "        for moves in self.moves:\n",
    "            move = moves.replace(' ', '-').lower()\n",
    "            url = 'https://pokeapi.co/api/v2/move/'+move+'/'\n",
    "            response_json = api_call(url)\n",
    "\n",
    "            move_type = response_json['type']['name']\n",
    "            move_power = 0 if response_json['power'] == None else response_json['power'] // 10\n",
    "            self.move_dict[move] = {'type' : move_type, 'power' : move_power}\n",
    "\n",
    "        self.delete_no_damage()\n",
    "\n",
    "\n",
    "    def get_attrs(self):\n",
    "        \"\"\"Retrieves all the pokemons attributes to prepare for battle\"\"\"\n",
    "        self.get_moves()\n",
    "        self.poke_types()\n",
    "        self.factors()\n",
    "        self.move_info()\n",
    "\n",
    "    \n",
    "def damage_multiplier(defending_mon, quicker_mon, move): \n",
    "    d_resistences = defending_mon.resistances\n",
    "    d_weaknesses = defending_mon.weaknesses\n",
    "    m_type = quicker_mon.move_dict[move].get('type')\n",
    "    # move_types = set(m_type)\n",
    "    \n",
    "    if m_type in d_weaknesses:\n",
    "        multiplier = 2\n",
    "    elif m_type in d_resistences:\n",
    "        multiplier = .5\n",
    "    else: \n",
    "        multiplier = 1\n",
    "    \n",
    "    return multiplier\n",
    "\n",
    "\n",
    "def damage_calc(attacking_mon, defending_mon, index):\n",
    "    \"\"\"Calculates the actual damage done by selected move during battle\"\"\"\n",
    "    dmg = int(attacking_mon.move_dict[list(attacking_mon.moves)[index-1]]['power'] * damage_multiplier(defending_mon, \n",
    "                                                                                        attacking_mon, \n",
    "                                                                                        list(attacking_mon.moves)[index-1]))\n",
    "    return dmg"
   ]
  },
  {
   "cell_type": "code",
   "execution_count": 240,
   "metadata": {},
   "outputs": [],
   "source": [
    "def battle_turn1(quicker_mon, slower_mon):\n",
    "    print(\"Go\", quicker_mon.name, \"!\")\n",
    "    \n",
    "    for i, x in enumerate(quicker_mon.moves):\n",
    "        print(i+1, x)\n",
    "    index = int(input(\"Pick a move: \"))\n",
    "    \n",
    "    print(quicker_mon.name ,\"used\", list(quicker_mon.moves)[index-1])\n",
    "    time.sleep(1)\n",
    "    print(quicker_mon.name, \n",
    "        \"did\", \n",
    "        damage_calc(quicker_mon, slower_mon, index),\n",
    "        \"damage!\")\n",
    "\n",
    "    slower_mon.bars -= damage_calc(quicker_mon, slower_mon, index)\n",
    "    slower_mon.health = \"\"\n",
    "\n",
    "    # for i in range(int(slower_mon.bars)):\n",
    "    #     slower_mon.health += \"=\"\n",
    "    slower_mon.health = '=' * ceil(slower_mon.bars / 3)\n",
    "\n",
    "    print(quicker_mon.name ,\"health:\", quicker_mon.health)\n",
    "    print(slower_mon.name ,\"health:\", slower_mon.health)"
   ]
  },
  {
   "cell_type": "code",
   "execution_count": 241,
   "metadata": {},
   "outputs": [],
   "source": [
    "def battle_turn2(quicker_mon, slower_mon):\n",
    "    print(\"Go\", slower_mon.name, \"!\")\n",
    "    for i, x in enumerate(slower_mon.moves):\n",
    "        print(i+1, x)\n",
    "\n",
    "    index = int(input(\"Pick a move: \"))\n",
    "    \n",
    "    print(slower_mon.name ,\"used\", list(slower_mon.moves)[index-1])\n",
    "    time.sleep(1)\n",
    "    print(slower_mon.name,\n",
    "        \"did\",\n",
    "        damage_calc(slower_mon, quicker_mon, index),\n",
    "        \"damage!\")\n",
    "\n",
    "    quicker_mon.bars -= damage_calc(slower_mon, quicker_mon, index)\n",
    "    quicker_mon.health = \"\"\n",
    "\n",
    "\n",
    "    # for i in range(int(quicker_mon.bars)):\n",
    "    #     quicker_mon.health += \"=\"\n",
    "    quicker_mon.health = '=' * ceil(quicker_mon.bars / 3 )\n",
    "        \n",
    "    print(slower_mon.name ,\"health:\", slower_mon.health)\n",
    "    print(quicker_mon.name ,\"health:\", quicker_mon.health)            "
   ]
  },
  {
   "cell_type": "code",
   "execution_count": 7,
   "metadata": {},
   "outputs": [],
   "source": [
    "def battle(Pokemon1, Pokemon2): \n",
    "    \n",
    "    print(\"-----POKEMON BATTLE-----\")\n",
    "    print(\"Pokemon 1:\", Pokemon1.name)\n",
    "    print(\"TYPE/\", Pokemon1.types)\n",
    "    print(\"\\nVS\\n\")\n",
    "    print(\"Pokemon 2:\", Pokemon2.name)\n",
    "    print(\"TYPE/\", Pokemon2.types, '\\n')\n",
    "    \n",
    "#evaluate speed of pokemon\n",
    "    \n",
    "    while Pokemon1.speed > Pokemon2.speed == True:\n",
    "        quicker_mon = Pokemon1\n",
    "        slower_mon = Pokemon2\n",
    "    \n",
    "    else: \n",
    "        slower_mon = Pokemon1\n",
    "        quicker_mon = Pokemon2\n",
    "        \n",
    "    while (quicker_mon.bars > 0) and (slower_mon.bars > 0):\n",
    "            \n",
    "            battle_turn1(quicker_mon, slower_mon)\n",
    "            \n",
    "            if slower_mon.bars <= 0:\n",
    "                delay_print(\"\\n...\" + slower_mon.name + ' fainted.')\n",
    "                break\n",
    "                \n",
    " #mirroring the attack pattern of the quicker mon but for the slower mon\n",
    "\n",
    "            battle_turn2(quicker_mon, slower_mon)           \n",
    "            \n",
    "            if quicker_mon.bars <= 0:\n",
    "                delay_print(\"\\n...\" + quicker_mon.name + ' fainted.')\n",
    "                break"
   ]
  },
  {
   "cell_type": "code",
   "execution_count": 251,
   "metadata": {},
   "outputs": [],
   "source": [
    "if __name__ == '__main__':\n",
    "    # gyarados = Pokemon('gyarados', 'water', {'crunch': 1, 'surf': 3}, 4)\n",
    "    # aerodactyl = Pokemon('aerodactyl', 'rock', {'air-cutter': 2, 'head-smash': 3}, 7)\n",
    "\n",
    "    gyarados = Pokemon('gyarados', 4)\n",
    "    gyarados.get_attrs()\n",
    "    aerodactyl = Pokemon('aerodactyl', 7)\n",
    "    aerodactyl.get_attrs()\n",
    "#could use api calls for move type and move power instead of using dictionaries\n",
    "    #for damage calcs, could use power % 10 to simplify health ga"
   ]
  },
  {
   "cell_type": "code",
   "execution_count": 252,
   "metadata": {},
   "outputs": [
    {
     "data": {
      "text/plain": [
       "{'stone-edge': {'type': 'rock', 'power': 10},\n",
       " 'thrash': {'type': 'normal', 'power': 12},\n",
       " 'brine': {'type': 'water', 'power': 6},\n",
       " 'thunderbolt': {'type': 'electric', 'power': 9}}"
      ]
     },
     "execution_count": 252,
     "metadata": {},
     "output_type": "execute_result"
    }
   ],
   "source": [
    "gyarados.move_dict\n"
   ]
  },
  {
   "cell_type": "code",
   "execution_count": 253,
   "metadata": {},
   "outputs": [
    {
     "data": {
      "text/plain": [
       "{'dragon-pulse': {'type': 'dragon', 'power': 8},\n",
       " 'fly': {'type': 'flying', 'power': 9},\n",
       " 'assurance': {'type': 'dark', 'power': 6},\n",
       " 'thief': {'type': 'dark', 'power': 6}}"
      ]
     },
     "execution_count": 253,
     "metadata": {},
     "output_type": "execute_result"
    }
   ],
   "source": [
    "aerodactyl.move_dict"
   ]
  },
  {
   "cell_type": "code",
   "execution_count": 255,
   "metadata": {},
   "outputs": [
    {
     "name": "stdout",
     "output_type": "stream",
     "text": [
      "-----POKEMON BATTLE-----\n",
      "Pokemon 1: gyarados\n",
      "TYPE/ ['water', 'flying']\n",
      "\n",
      "VS\n",
      "\n",
      "Pokemon 2: aerodactyl\n",
      "TYPE/ ['rock', 'flying'] \n",
      "\n",
      "Go aerodactyl !\n",
      "1 dragon-pulse\n",
      "2 fly\n",
      "3 assurance\n",
      "4 thief\n",
      "aerodactyl used dragon-pulse\n",
      "aerodactyl did 8 damage!\n",
      "aerodactyl health: ====\n",
      "gyarados health: =====\n",
      "Go gyarados !\n",
      "1 stone-edge\n",
      "2 thrash\n",
      "3 brine\n",
      "4 thunderbolt\n",
      "gyarados used brine\n",
      "gyarados did 12 damage!\n",
      "gyarados health: =====\n",
      "aerodactyl health: \n",
      "\n",
      "...aerodactyl fainted."
     ]
    }
   ],
   "source": [
    "battle(gyarados, aerodactyl)"
   ]
  },
  {
   "cell_type": "code",
   "execution_count": null,
   "metadata": {},
   "outputs": [],
   "source": []
  },
  {
   "cell_type": "code",
   "execution_count": 29,
   "metadata": {},
   "outputs": [
    {
     "data": {
      "text/plain": [
       "['bullet-seed', 'fury-cutter', 'grassy-terrain', 'nature-power']"
      ]
     },
     "execution_count": 29,
     "metadata": {},
     "output_type": "execute_result"
    }
   ],
   "source": [
    "ivysaur.get_moves() #updates moves to new choices but now has no damage associated \n",
    "ivysaur.moves "
   ]
  },
  {
   "cell_type": "code",
   "execution_count": 23,
   "metadata": {},
   "outputs": [
    {
     "data": {
      "text/plain": [
       "['aqua-tail', 'outrage', 'scale-shot', 'thunder-wave']"
      ]
     },
     "execution_count": 23,
     "metadata": {},
     "output_type": "execute_result"
    }
   ],
   "source": [
    "gyarados.moves_list #just a list of the random moves. work in progress"
   ]
  },
  {
   "cell_type": "code",
   "execution_count": 30,
   "metadata": {},
   "outputs": [],
   "source": [
    "\n",
    "for move in ivysaur.moves:\n",
    "    move_type, move_power = move_info(move)\n",
    "    ivysaur.move_dict[move] = {'type' : move_type, 'power' : move_power}\n",
    "    "
   ]
  },
  {
   "cell_type": "code",
   "execution_count": 31,
   "metadata": {},
   "outputs": [
    {
     "data": {
      "text/plain": [
       "{'bullet-seed': {'type': 'grass', 'power': 25},\n",
       " 'fury-cutter': {'type': 'bug', 'power': 40},\n",
       " 'grassy-terrain': {'type': 'grass', 'power': 0},\n",
       " 'nature-power': {'type': 'normal', 'power': 0}}"
      ]
     },
     "execution_count": 31,
     "metadata": {},
     "output_type": "execute_result"
    }
   ],
   "source": [
    "ivysaur.move_dict"
   ]
  },
  {
   "cell_type": "code",
   "execution_count": null,
   "metadata": {},
   "outputs": [],
   "source": [
    "gyarados.types"
   ]
  },
  {
   "cell_type": "code",
   "execution_count": null,
   "metadata": {},
   "outputs": [],
   "source": [
    "gyarados.poke_types()\n",
    "gyarados.types_list"
   ]
  },
  {
   "cell_type": "code",
   "execution_count": 27,
   "metadata": {},
   "outputs": [],
   "source": [
    "ivysaur = Pokemon('ivysaur', 'grass', 'na', 4,)"
   ]
  },
  {
   "cell_type": "code",
   "execution_count": null,
   "metadata": {},
   "outputs": [],
   "source": [
    "ivysaur.get_moves()"
   ]
  },
  {
   "cell_type": "code",
   "execution_count": null,
   "metadata": {},
   "outputs": [],
   "source": [
    "ivysaur.poke_types()"
   ]
  },
  {
   "cell_type": "code",
   "execution_count": null,
   "metadata": {},
   "outputs": [],
   "source": [
    "ivysaur.types_list"
   ]
  },
  {
   "cell_type": "code",
   "execution_count": null,
   "metadata": {},
   "outputs": [],
   "source": [
    "ivysaur.moves"
   ]
  },
  {
   "cell_type": "code",
   "execution_count": null,
   "metadata": {},
   "outputs": [],
   "source": []
  }
 ],
 "metadata": {
  "kernelspec": {
   "display_name": "Python 3 (ipykernel)",
   "language": "python",
   "name": "python3"
  },
  "language_info": {
   "codemirror_mode": {
    "name": "ipython",
    "version": 3
   },
   "file_extension": ".py",
   "mimetype": "text/x-python",
   "name": "python",
   "nbconvert_exporter": "python",
   "pygments_lexer": "ipython3",
   "version": "3.8.5"
  }
 },
 "nbformat": 4,
 "nbformat_minor": 2
}
