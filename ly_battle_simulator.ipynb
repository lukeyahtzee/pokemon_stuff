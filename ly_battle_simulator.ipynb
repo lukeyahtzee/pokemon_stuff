{
 "cells": [
  {
   "cell_type": "code",
   "execution_count": 103,
   "metadata": {},
   "outputs": [],
   "source": [
    "import time\n",
    "import numpy as np\n",
    "import sys\n",
    "import requests\n",
    "import json"
   ]
  },
  {
   "cell_type": "code",
   "execution_count": 2,
   "metadata": {},
   "outputs": [],
   "source": [
    "def delay_print(s):\n",
    "    for c in s:\n",
    "        sys.stdout.write(c)\n",
    "        sys.stdout.flush()\n",
    "        time.sleep(0.05)"
   ]
  },
  {
   "cell_type": "code",
   "execution_count": 4,
   "metadata": {},
   "outputs": [],
   "source": [
    "class Pokemon:\n",
    "    def __init__(self, name, types, moves, speed, health='=========='):\n",
    "        self.name = name\n",
    "        self.types = types\n",
    "        self.moves = moves\n",
    "        self.health = health\n",
    "        self.bars = 10\n",
    "        self.speed = speed"
   ]
  },
  {
   "cell_type": "code",
   "execution_count": 353,
   "metadata": {},
   "outputs": [],
   "source": [
    "def poke_types(Pokemon):\n",
    "    pokemon_url = 'https://pokeapi.co/api/v2/pokemon/'+Pokemon.name+'/'\n",
    "    pokemon_response = requests.get(pokemon_url)\n",
    "    pokemon_response_json = json.loads(pokemon_response.text)\n",
    "    types = []\n",
    "    for i in range(len(pokemon_response_json['types'])):\n",
    "        pokemon_response_json['types'][i]['type']['name']\n",
    "        types.append(pokemon_response_json['types'][i]['type']['name'])\n",
    "    return types"
   ]
  },
  {
   "cell_type": "code",
   "execution_count": 236,
   "metadata": {},
   "outputs": [],
   "source": [
    "def poke_weakness(Pokemon):\n",
    "    for i in poke_types(Pokemon):\n",
    "        type_url = 'https://pokeapi.co/api/v2/type/'+i+'/'\n",
    "        type_response = requests.get(type_url)\n",
    "        type_response_json = json.loads(type_response.text)\n",
    "        types = []\n",
    "        for j in range(len(type_response_json['damage_relations']['double_damage_from'])):\n",
    "            types.append(type_response_json['damage_relations']['double_damage_from'][j]['name'])\n",
    "    return types"
   ]
  },
  {
   "cell_type": "code",
   "execution_count": 260,
   "metadata": {},
   "outputs": [],
   "source": [
    "def poke_resistance(Pokemon):\n",
    "    for i in poke_types(Pokemon):\n",
    "        type_url = 'https://pokeapi.co/api/v2/type/'+i+'/'\n",
    "        type_response = requests.get(type_url)\n",
    "        type_response_json = json.loads(type_response.text)\n",
    "        types = []\n",
    "        for j in range(len(type_response_json['damage_relations']['half_damage_from'])):\n",
    "            types.append(type_response_json['damage_relations']['half_damage_from'][j]['name'])\n",
    "    return types"
   ]
  },
  {
   "cell_type": "code",
   "execution_count": 297,
   "metadata": {},
   "outputs": [],
   "source": [
    "def move_type(move): \n",
    "    move = move.replace(' ', '-').lower()\n",
    "    url = 'https://pokeapi.co/api/v2/move/'+move+'/'\n",
    "    response = requests.get(url)\n",
    "    response_json = json.loads(response.text)\n",
    "    \n",
    "    return response_json['type']['name']"
   ]
  },
  {
   "cell_type": "code",
   "execution_count": null,
   "metadata": {},
   "outputs": [],
   "source": [
    "def move_power(move): \n",
    "    move = move.replace(' ', '-').lower()\n",
    "    url = 'https://pokeapi.co/api/v2/move/'+move+'/'\n",
    "    response = requests.get(url)\n",
    "    response_json = json.loads(response.text)\n",
    "    \n",
    "    return response_json['power']"
   ]
  },
  {
   "cell_type": "code",
   "execution_count": 359,
   "metadata": {},
   "outputs": [],
   "source": [
    "def damage_multiplier(defending_mon, move): \n",
    "    d_resistences = set(poke_resistance(defending_mon))\n",
    "    d_weaknesses = set(poke_weakness(defending_mon))\n",
    "    move_types = set(move_type(move))\n",
    "    \n",
    "    if move_types.intersection(d_weaknesses):\n",
    "        multiplier = 2\n",
    "    elif move_types.intersection(d_resistences):\n",
    "        multiplier = .5\n",
    "    else: \n",
    "        multiplier = 1\n",
    "    \n",
    "    return multiplier"
   ]
  },
  {
   "cell_type": "code",
   "execution_count": 354,
   "metadata": {},
   "outputs": [],
   "source": [
    "def battle(Pokemon1, Pokemon2): \n",
    "    \n",
    "    print(\"-----POKEMON BATTLE-----\")\n",
    "    print(\"Pokemon 1:\", Pokemon1.name)\n",
    "    print(\"TYPE/\", Pokemon1.types)\n",
    "    print(\"\\nVS\")\n",
    "    print(\"Pokemon 2:\", Pokemon2.name)\n",
    "    print(\"TYPE/\", Pokemon2.types)\n",
    "    \n",
    "#evaluate speed of pokemon\n",
    "    \n",
    "    while Pokemon1.speed > Pokemon2.speed == True:\n",
    "        quicker_mon = Pokemon1\n",
    "        slower_mon = Pokemon2\n",
    "    \n",
    "    else: \n",
    "        slower_mon = Pokemon1\n",
    "        quicker_mon = Pokemon2\n",
    "        \n",
    "    while (quicker_mon.bars > 0) and (slower_mon.bars > 0):\n",
    "            \n",
    "            print(\"Go\", quicker_mon.name, \"!\")\n",
    "            for i, x in enumerate(quicker_mon.moves):\n",
    "                print(i+1, x)\n",
    "            index = int(input('Pick a move: '))\n",
    "            print(quicker_mon.name ,\"used\", list(quicker_mon.moves.keys())[index-1])\n",
    "            time.sleep(1)\n",
    "            print(quicker_mon.name, \"did\", list(quicker_mon.moves.values())[index-1]*damage_multiplier(slower_mon,list(quicker_mon.moves.keys())[index-1]), \"damage!\")\n",
    "\n",
    "            slower_mon.bars -= list(quicker_mon.moves.values())[index-1]*damage_multiplier(slower_mon,list(quicker_mon.moves.keys())[index-1])\n",
    "            slower_mon.health = \"\"\n",
    "\n",
    "            for i in range(int(slower_mon.bars)):\n",
    "                slower_mon.health += \"=\"\n",
    "                \n",
    "            print(quicker_mon.name ,\"health:\", quicker_mon.health)\n",
    "            print(slower_mon.name ,\"health:\", slower_mon.health)\n",
    "            \n",
    "            if slower_mon.bars <= 0:\n",
    "                delay_print(\"\\n...\" + slower_mon.name + ' fainted.')\n",
    "                break\n",
    "                \n",
    " #mirroring the attack pattern of the quicker mon but for the slower mon\n",
    "\n",
    "            print(\"Go\", slower_mon.name, \"!\")\n",
    "            for i, x in enumerate(slower_mon.moves):\n",
    "                print(i+1, x)\n",
    "            index = int(input('Pick a move: '))\n",
    "            print(slower_mon.name ,\"used\", list(slower_mon.moves.keys())[index-1])\n",
    "            time.sleep(1)\n",
    "            print(slower_mon.name, \"did\", list(slower_mon.moves.values())[index-1]*damage_multiplier(quicker_mon,list(slower_mon.moves.keys())[index-1]), \"damage!\")\n",
    "\n",
    "            quicker_mon.bars -= list(slower_mon.moves.values())[index-1]*damage_multiplier(quicker_mon,list(slower_mon.moves.keys())[index-1])\n",
    "            quicker_mon.health = \"\"\n",
    "\n",
    "            for i in range(int(quicker_mon.bars)):\n",
    "                quicker_mon.health += \"=\"\n",
    "                \n",
    "            print(slower_mon.name ,\"health:\", slower_mon.health)\n",
    "            print(quicker_mon.name ,\"health:\", quicker_mon.health)            \n",
    "            \n",
    "            if quicker_mon.bars <= 0:\n",
    "                delay_print(\"\\n...\" + quicker_mon.name + ' fainted.')\n",
    "                break"
   ]
  },
  {
   "cell_type": "code",
   "execution_count": 360,
   "metadata": {},
   "outputs": [],
   "source": [
    "if __name__ == '__main__':\n",
    "    gyarados = Pokemon('gyarados', 'water', {'crunch': 1, 'surf': 3}, 4)\n",
    "    aerodactyl = Pokemon('aerodactyl', 'rock', {'air-cutter': 2, 'head-smash': 3}, 7)\n",
    "    \n",
    "#could use api calls for move type and move power instead of using dictionaries\n",
    "    #for damage calcs, could use power % 10 to simplify health ga"
   ]
  },
  {
   "cell_type": "markdown",
   "metadata": {},
   "source": [
    "battle(gyarados, aerodactyl)"
   ]
  },
  {
   "cell_type": "code",
   "execution_count": 247,
   "metadata": {},
   "outputs": [
    {
     "data": {
      "text/plain": [
       "150"
      ]
     },
     "execution_count": 247,
     "metadata": {},
     "output_type": "execute_result"
    }
   ],
   "source": [
    "url = 'https://pokeapi.co/api/v2/move/head-smash/'\n",
    "response = requests.get(url)\n",
    "response_json = json.loads(response.text)\n",
    "\n",
    "response_json['power']\n",
    "response_json['type']['name']"
   ]
  },
  {
   "cell_type": "code",
   "execution_count": 342,
   "metadata": {},
   "outputs": [],
   "source": [
    "def damage_multiplier(defending_mon, move): \n",
    "    d_resistences = set(poke_resistance(defending_mon))\n",
    "    #return d_resistences ['fighting', 'bug', 'grass']\n",
    "    d_weaknesses = set(poke_weakness(defending_mon))\n",
    "    #return d_weaknesses ['rock', 'electric', 'ice']\n",
    "    move_types = set(move_type(move))\n",
    "    #return move_types ['rock']\n",
    "    \n",
    "    if move_types.intersection(d_weaknesses):\n",
    "        multiplier = 2\n",
    "    elif move_types.intersection(d_resistences):\n",
    "        multiplier = .5\n",
    "    else: \n",
    "        multiplier = 0\n",
    "    \n",
    "    return multiplier"
   ]
  },
  {
   "cell_type": "code",
   "execution_count": 343,
   "metadata": {},
   "outputs": [
    {
     "data": {
      "text/plain": [
       "2"
      ]
     },
     "execution_count": 343,
     "metadata": {},
     "output_type": "execute_result"
    }
   ],
   "source": [
    "damage_multiplier('gyarados', 'head smash')"
   ]
  },
  {
   "cell_type": "code",
   "execution_count": 301,
   "metadata": {},
   "outputs": [
    {
     "name": "stdout",
     "output_type": "stream",
     "text": [
      "double\n"
     ]
    }
   ],
   "source": [
    "move_types = ['water']\n",
    "\n",
    "weaknesses = ['water', 'electric']\n",
    "\n",
    "resistences = ['rock', 'fighting']\n",
    "\n",
    "if [i for i in move_types if i in weaknesses]:\n",
    "    print('double')\n",
    "elif [i for i in move_types if i in resistences]:\n",
    "    print('half')\n",
    "else: \n",
    "    print('neutral or no effect')\n",
    "        \n",
    "    "
   ]
  },
  {
   "cell_type": "code",
   "execution_count": 314,
   "metadata": {},
   "outputs": [],
   "source": [
    "def move_type(move): \n",
    "    move = move.replace(' ', '-').lower()\n",
    "    url = 'https://pokeapi.co/api/v2/move/'+move+'/'\n",
    "    response = requests.get(url)\n",
    "    response_json = json.loads(response.text)\n",
    "    \n",
    "    return [response_json['type']['name']]"
   ]
  },
  {
   "cell_type": "code",
   "execution_count": 315,
   "metadata": {},
   "outputs": [
    {
     "data": {
      "text/plain": [
       "['rock']"
      ]
     },
     "execution_count": 315,
     "metadata": {},
     "output_type": "execute_result"
    }
   ],
   "source": [
    "move_type('head smash')"
   ]
  },
  {
   "cell_type": "code",
   "execution_count": 332,
   "metadata": {},
   "outputs": [
    {
     "data": {
      "text/plain": [
       "0.5"
      ]
     },
     "execution_count": 332,
     "metadata": {},
     "output_type": "execute_result"
    }
   ],
   "source": [
    "d_resistences = set(poke_resistance('gyarados'))\n",
    "    #return d_resistences ['fighting', 'bug', 'grass']\n",
    "d_weaknesses = set(poke_weakness('gyarados'))\n",
    "    #return d_weaknesses ['rock', 'electric', 'ice']\n",
    "move_types = set(move_type('head smash'))\n",
    "    #return move_types ['rock']\n",
    "    \n",
    "if move_types.intersection(d_weaknesses):\n",
    "    multiplier = 2\n",
    "elif move_types.intersection(d_resistences):\n",
    "    multiplier = .5\n",
    "else: \n",
    "    multiplier = 0\n",
    "    \n",
    "multiplier"
   ]
  },
  {
   "cell_type": "code",
   "execution_count": 337,
   "metadata": {},
   "outputs": [
    {
     "data": {
      "text/plain": [
       "2"
      ]
     },
     "execution_count": 337,
     "metadata": {},
     "output_type": "execute_result"
    }
   ],
   "source": [
    "#[i for i in move_types if i in resistences]\n",
    "if move_types.intersection(d_weaknesses):\n",
    "    multiplier = 2\n",
    "elif move_types.intersection(d_resistences):\n",
    "    multiplier = .5\n",
    "else: \n",
    "    multiplier = 0\n",
    "\n",
    "multiplier"
   ]
  },
  {
   "cell_type": "code",
   "execution_count": 336,
   "metadata": {},
   "outputs": [
    {
     "data": {
      "text/plain": [
       "2"
      ]
     },
     "execution_count": 336,
     "metadata": {},
     "output_type": "execute_result"
    }
   ],
   "source": [
    "multiplier"
   ]
  },
  {
   "cell_type": "code",
   "execution_count": 325,
   "metadata": {},
   "outputs": [
    {
     "data": {
      "text/plain": [
       "['fighting', 'bug', 'grass']"
      ]
     },
     "execution_count": 325,
     "metadata": {},
     "output_type": "execute_result"
    }
   ],
   "source": [
    "\n",
    "    for i in poke_types(Pokemon):\n",
    "        type_url = 'https://pokeapi.co/api/v2/type/'+i+'/'\n",
    "        type_response = requests.get(type_url)\n",
    "        type_response_json = json.loads(type_response.text)\n",
    "        types = []\n",
    "        for j in range(len(type_response_json['damage_relations']['half_damage_from'])):\n",
    "            types.append(type_response_json['damage_relations']['half_damage_from'][j]['name'])\n",
    "    return types"
   ]
  }
 ],
 "metadata": {
  "kernelspec": {
   "display_name": "Python 3 (ipykernel)",
   "language": "python",
   "name": "python3"
  },
  "language_info": {
   "codemirror_mode": {
    "name": "ipython",
    "version": 3
   },
   "file_extension": ".py",
   "mimetype": "text/x-python",
   "name": "python",
   "nbconvert_exporter": "python",
   "pygments_lexer": "ipython3",
   "version": "3.7.4"
  }
 },
 "nbformat": 4,
 "nbformat_minor": 2
}
