{
 "cells": [
  {
   "cell_type": "code",
   "execution_count": 103,
   "metadata": {},
   "outputs": [],
   "source": [
    "import time\n",
    "import numpy as np\n",
    "import sys\n",
    "import requests\n",
    "import json"
   ]
  },
  {
   "cell_type": "code",
   "execution_count": 2,
   "metadata": {},
   "outputs": [],
   "source": [
    "def delay_print(s):\n",
    "    for c in s:\n",
    "        sys.stdout.write(c)\n",
    "        sys.stdout.flush()\n",
    "        time.sleep(0.05)"
   ]
  },
  {
   "cell_type": "code",
   "execution_count": 4,
   "metadata": {},
   "outputs": [],
   "source": [
    "class Pokemon:\n",
    "    def __init__(self, name, types, moves, speed, health='=========='):\n",
    "        self.name = name\n",
    "        self.types = types\n",
    "        self.moves = moves\n",
    "        self.health = health\n",
    "        self.bars = 10\n",
    "        self.speed = speed"
   ]
  },
  {
   "cell_type": "code",
   "execution_count": null,
   "metadata": {},
   "outputs": [],
   "source": [
    "def poke_types(Pokemon):\n",
    "    pokemon_url = 'https://pokeapi.co/api/v2/pokemon/'+Pokemon.name+'/'\n",
    "    pokemon_response = requests.get(pokemon_url)\n",
    "    pokemon_response_json = json.loads(pokemon_response.text)\n",
    "    types = []\n",
    "    for i in range(len(pokemon_response_json['types'])):\n",
    "        pokemon_response_json['types'][i]['type']['name']\n",
    "        types.append(pokemon_response_json['types'][i]['type']['name'])\n",
    "    return types"
   ]
  },
  {
   "cell_type": "code",
   "execution_count": null,
   "metadata": {},
   "outputs": [],
   "source": [
    "def poke_weakness(Pokemon):\n",
    "    for i in poke_types(Pokemon):\n",
    "        type_url = 'https://pokeapi.co/api/v2/type/'+i+'/'\n",
    "        type_response = requests.get(type_url)\n",
    "        type_response_json = json.loads(type_response.text)\n",
    "        types = []\n",
    "        for j in range(len(type_response_json['damage_relations']['double_damage_from'])):\n",
    "            types.append(type_response_json['damage_relations']['double_damage_from'][j]['name'])\n",
    "    return types"
   ]
  },
  {
   "cell_type": "code",
   "execution_count": null,
   "metadata": {},
   "outputs": [],
   "source": [
    "def poke_resistance(Pokemon):\n",
    "    for i in poke_types(Pokemon):\n",
    "        type_url = 'https://pokeapi.co/api/v2/type/'+i+'/'\n",
    "        type_response = requests.get(type_url)\n",
    "        type_response_json = json.loads(type_response.text)\n",
    "        types = []\n",
    "        for j in range(len(type_response_json['damage_relations']['half_damage_from'])):\n",
    "            types.append(type_response_json['damage_relations']['half_damage_from'][j]['name'])\n",
    "    return types"
   ]
  },
  {
   "cell_type": "code",
   "execution_count": 100,
   "metadata": {},
   "outputs": [],
   "source": [
    "def battle(Pokemon1, Pokemon2): \n",
    "    \n",
    "    print(\"-----POKEMONE BATTLE-----\")\n",
    "    print(\"Pokemon 1:\", Pokemon1.name)\n",
    "    print(\"TYPE/\", Pokemon1.types)\n",
    "    print(\"\\nVS\")\n",
    "    print(\"Pokemon 2:\", Pokemon2.name)\n",
    "    print(\"TYPE/\", Pokemon2.types)\n",
    "    \n",
    "#evaluate speed of pokemon\n",
    "    \n",
    "    while Pokemon1.speed > Pokemon2.speed == True:\n",
    "        quicker_mon = Pokemon1\n",
    "        slower_mon = Pokemon2\n",
    "    \n",
    "    else: \n",
    "        slower_mon = Pokemon1\n",
    "        quicker_mon = Pokemon2\n",
    "        \n",
    "    while (quicker_mon.bars > 0) and (slower_mon.bars > 0):\n",
    "            \n",
    "            print(\"Go\", quicker_mon.name, \"!\")\n",
    "            for i, x in enumerate(quicker_mon.moves):\n",
    "                print(i+1, x)\n",
    "            index = int(input('Pick a move: '))\n",
    "            print(quicker_mon.name ,\"used\", list(quicker_mon.moves.keys())[index-1])\n",
    "            time.sleep(1)\n",
    "            print(quicker_mon.name, \"did\", list(quicker_mon.moves.values())[index-1], \"damage!\")\n",
    "\n",
    "            slower_mon.bars -= list(quicker_mon.moves.values())[index-1]\n",
    "            slower_mon.health = \"\"\n",
    "\n",
    "            for i in range(int(slower_mon.bars)):\n",
    "                slower_mon.health += \"=\"\n",
    "                \n",
    "            print(quicker_mon.name ,\"health:\", quicker_mon.health)\n",
    "            print(slower_mon.name ,\"health:\", slower_mon.health)\n",
    "            \n",
    "            if slower_mon.bars <= 0:\n",
    "                delay_print(\"\\n...\" + slower_mon.name + ' fainted.')\n",
    "                break\n",
    "                \n",
    " #mirroring the attack pattern of the quicker mon but for the slower mon\n",
    "\n",
    "            print(\"Go\", slower_mon.name, \"!\")\n",
    "            for i, x in enumerate(slower_mon.moves):\n",
    "                print(i+1, x)\n",
    "            index = int(input('Pick a move: '))\n",
    "            print(slower_mon.name ,\"used\", list(slower_mon.moves.keys())[index-1])\n",
    "            time.sleep(1)\n",
    "            print(slower_mon.name, \"did\", list(slower_mon.moves.values())[index-1], \"damage!\")\n",
    "\n",
    "            quicker_mon.bars -= list(slower_mon.moves.values())[index-1]\n",
    "            quicker_mon.health = \"\"\n",
    "\n",
    "            for i in range(int(quicker_mon.bars)):\n",
    "                quicker_mon.health += \"=\"\n",
    "                \n",
    "            print(slower_mon.name ,\"health:\", slower_mon.health)\n",
    "            print(quicker_mon.name ,\"health:\", quicker_mon.health)\n",
    "\n",
    "#battle ends here            \n",
    "            \n",
    "            if quicker_mon.bars <= 0:\n",
    "                delay_print(\"\\n...\" + quicker_mon.name + ' fainted.')\n",
    "                break"
   ]
  },
  {
   "cell_type": "code",
   "execution_count": 226,
   "metadata": {},
   "outputs": [],
   "source": [
    "if __name__ == '__main__':\n",
    "    gyarados = Pokemon('gyarados', 'water', {'crunch': 1, 'surf': 3}, 4)\n",
    "    aerodactyl = Pokemon('aerodactyl', 'rock', {'air slash': 2, 'head smash': 3}, 7)\n",
    "    \n",
    "#could use api calls for move type and move power instead of using dictionaries\n",
    "    #for damage calcs, could use power % 10 to simplify health ga"
   ]
  },
  {
   "cell_type": "code",
   "execution_count": 227,
   "metadata": {},
   "outputs": [
    {
     "name": "stdout",
     "output_type": "stream",
     "text": [
      "-----POKEMONE BATTLE-----\n",
      "Pokemon 1: gyarados\n",
      "TYPE/ water\n",
      "\n",
      "VS\n",
      "Pokemon 2: aerodactyl\n",
      "TYPE/ rock\n",
      "Go aerodactyl !\n",
      "1 air slash\n",
      "2 head smash\n",
      "Pick a move: 2\n",
      "aerodactyl used head smash\n",
      "aerodactyl did 3 damage!\n",
      "aerodactyl health: ==========\n",
      "gyarados health: =======\n",
      "Go gyarados !\n",
      "1 crunch\n",
      "2 surf\n",
      "Pick a move: 1\n",
      "gyarados used crunch\n",
      "gyarados did 1 damage!\n",
      "gyarados health: =======\n",
      "aerodactyl health: =========\n",
      "Go aerodactyl !\n",
      "1 air slash\n",
      "2 head smash\n",
      "Pick a move: 2\n",
      "aerodactyl used head smash\n",
      "aerodactyl did 3 damage!\n",
      "aerodactyl health: =========\n",
      "gyarados health: ====\n",
      "Go gyarados !\n",
      "1 crunch\n",
      "2 surf\n",
      "Pick a move: 1\n",
      "gyarados used crunch\n",
      "gyarados did 1 damage!\n",
      "gyarados health: ====\n",
      "aerodactyl health: ========\n",
      "Go aerodactyl !\n",
      "1 air slash\n",
      "2 head smash\n",
      "Pick a move: 2\n",
      "aerodactyl used head smash\n",
      "aerodactyl did 3 damage!\n",
      "aerodactyl health: ========\n",
      "gyarados health: =\n",
      "Go gyarados !\n",
      "1 crunch\n",
      "2 surf\n",
      "Pick a move: 1\n",
      "gyarados used crunch\n",
      "gyarados did 1 damage!\n",
      "gyarados health: =\n",
      "aerodactyl health: =======\n",
      "Go aerodactyl !\n",
      "1 air slash\n",
      "2 head smash\n",
      "Pick a move: 2\n",
      "aerodactyl used head smash\n",
      "aerodactyl did 3 damage!\n",
      "aerodactyl health: =======\n",
      "gyarados health: \n",
      "\n",
      "...gyarados fainted."
     ]
    }
   ],
   "source": [
    "battle(gyarados, aerodactyl)"
   ]
  },
  {
   "cell_type": "code",
   "execution_count": null,
   "metadata": {},
   "outputs": [],
   "source": [
    "url = 'https://pokeapi.co/api/v2/move/air-cutter/'\n",
    "response = requests.get(url)\n",
    "response_json = json.loads(response.text)\n",
    "\n",
    "response_json['power']\n",
    "response_json['type']['name']"
   ]
  },
  {
   "cell_type": "code",
   "execution_count": 126,
   "metadata": {},
   "outputs": [],
   "source": [
    "pokemon_url = 'https://pokeapi.co/api/v2/pokemon/gyarados/'\n",
    "pokemon_response = requests.get(pokemon_url)\n",
    "pokemon_response_json = json.loads(pokemon_response.text)"
   ]
  },
  {
   "cell_type": "code",
   "execution_count": 138,
   "metadata": {},
   "outputs": [
    {
     "data": {
      "text/plain": [
       "'water'"
      ]
     },
     "execution_count": 138,
     "metadata": {},
     "output_type": "execute_result"
    }
   ],
   "source": [
    "pokemon_response_json['types'][0]['type']['name']"
   ]
  },
  {
   "cell_type": "code",
   "execution_count": 166,
   "metadata": {},
   "outputs": [
    {
     "data": {
      "text/plain": [
       "'flying'"
      ]
     },
     "execution_count": 166,
     "metadata": {},
     "output_type": "execute_result"
    }
   ],
   "source": [
    "pokemon_response_json['types'][1]['type']['name']"
   ]
  },
  {
   "cell_type": "code",
   "execution_count": 206,
   "metadata": {},
   "outputs": [],
   "source": [
    "types = []\n",
    "types.append(pokemon_response_json['types'][1]['type']['name'])"
   ]
  },
  {
   "cell_type": "code",
   "execution_count": 207,
   "metadata": {},
   "outputs": [
    {
     "data": {
      "text/plain": [
       "['flying']"
      ]
     },
     "execution_count": 207,
     "metadata": {},
     "output_type": "execute_result"
    }
   ],
   "source": [
    "types"
   ]
  },
  {
   "cell_type": "code",
   "execution_count": 218,
   "metadata": {},
   "outputs": [],
   "source": [
    "def poke_resistance(Pokemon):\n",
    "    for i in poke_types(Pokemon):\n",
    "        type_url = 'https://pokeapi.co/api/v2/type/'+i+'/'\n",
    "        type_response = requests.get(type_url)\n",
    "        type_response_json = json.loads(type_response.text)\n",
    "        types = []\n",
    "        for j in range(len(type_response_json['damage_relations']['half_damage_from'])):\n",
    "            types.append(type_response_json['damage_relations']['half_damage_from'][j]['name'])\n",
    "    return types"
   ]
  },
  {
   "cell_type": "code",
   "execution_count": 219,
   "metadata": {},
   "outputs": [
    {
     "data": {
      "text/plain": [
       "['fighting', 'bug', 'grass']"
      ]
     },
     "execution_count": 219,
     "metadata": {},
     "output_type": "execute_result"
    }
   ],
   "source": [
    "poke_resistance(gyarados)"
   ]
  },
  {
   "cell_type": "code",
   "execution_count": 214,
   "metadata": {},
   "outputs": [
    {
     "data": {
      "text/plain": [
       "[]"
      ]
     },
     "execution_count": 214,
     "metadata": {},
     "output_type": "execute_result"
    }
   ],
   "source": [
    "range(len(pokemon_response_json['types']))"
   ]
  },
  {
   "cell_type": "code",
   "execution_count": 163,
   "metadata": {},
   "outputs": [
    {
     "name": "stdout",
     "output_type": "stream",
     "text": [
      "grass\n",
      "electric\n"
     ]
    }
   ],
   "source": [
    "type_url = 'https://pokeapi.co/api/v2/type/water/'\n",
    "type_response = requests.get(type_url)\n",
    "type_response_json = json.loads(type_response.text)\n",
    "\n",
    "for i in range(len(type_response_json['damage_relations']['double_damage_from'])):\n",
    "    print(type_response_json['damage_relations']['double_damage_from'][i]['name'])"
   ]
  }
 ],
 "metadata": {
  "kernelspec": {
   "display_name": "Python 3",
   "language": "python",
   "name": "python3"
  },
  "language_info": {
   "codemirror_mode": {
    "name": "ipython",
    "version": 3
   },
   "file_extension": ".py",
   "mimetype": "text/x-python",
   "name": "python",
   "nbconvert_exporter": "python",
   "pygments_lexer": "ipython3",
   "version": "3.8.2"
  }
 },
 "nbformat": 4,
 "nbformat_minor": 2
}
